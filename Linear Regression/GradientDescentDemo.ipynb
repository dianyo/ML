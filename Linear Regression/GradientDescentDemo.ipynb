{
 "cells": [
  {
   "cell_type": "code",
   "execution_count": 2,
   "metadata": {
    "collapsed": false,
    "deletable": true,
    "editable": true
   },
   "outputs": [],
   "source": [
    "x_data = [ 338.,  333.,  328. , 207. , 226.  , 25. , 179. ,  60. , 208.,  606.]\n",
    "y_data = [  640.  , 633. ,  619.  , 393.  , 428. ,   27.  , 193.  ,  66. ,  226. , 1591.]"
   ]
  },
  {
   "cell_type": "code",
   "execution_count": 3,
   "metadata": {
    "collapsed": false,
    "deletable": true,
    "editable": true
   },
   "outputs": [],
   "source": [
    "x = np.arange(-200,-100,1) #bias\n",
    "y = np.arange(-5,5,0.1) #weight\n",
    "Z =  np.zeros((len(x), len(y)))\n",
    "X, Y = np.meshgrid(x, y)\n",
    "for i in range(len(x)):\n",
    "    for j in range(len(y)):\n",
    "\t\tb = x[i]\n",
    "\t\tw = y[j]\n",
    "\t\tZ[j][i] = 0\n",
    "\t\tfor n in range(len(x_data)):\n",
    "\t\t\tZ[j][i] = Z[j][i] +  (y_data[n] - b - w*x_data[n])**2\n",
    "\t\tZ[j][i] = Z[j][i]/len(x_data)"
   ]
  },
  {
   "cell_type": "code",
   "execution_count": 1,
   "metadata": {
    "collapsed": false,
    "deletable": true,
    "editable": true
   },
   "outputs": [
    {
     "ename": "NameError",
     "evalue": "name 'x_data' is not defined",
     "output_type": "error",
     "traceback": [
      "\u001b[0;31m---------------------------------------------------------------------------\u001b[0m",
      "\u001b[0;31mNameError\u001b[0m                                 Traceback (most recent call last)",
      "\u001b[0;32m<ipython-input-1-c2ceca17c911>\u001b[0m in \u001b[0;36m<module>\u001b[0;34m()\u001b[0m\n\u001b[1;32m     17\u001b[0m     \u001b[0mb_grad\u001b[0m \u001b[0;34m=\u001b[0m \u001b[0;36m0.0\u001b[0m\u001b[0;34m\u001b[0m\u001b[0m\n\u001b[1;32m     18\u001b[0m     \u001b[0mw_grad\u001b[0m \u001b[0;34m=\u001b[0m \u001b[0;36m0.0\u001b[0m\u001b[0;34m\u001b[0m\u001b[0m\n\u001b[0;32m---> 19\u001b[0;31m     \u001b[0;32mfor\u001b[0m \u001b[0mn\u001b[0m \u001b[0;32min\u001b[0m \u001b[0mrange\u001b[0m\u001b[0;34m(\u001b[0m\u001b[0mlen\u001b[0m\u001b[0;34m(\u001b[0m\u001b[0mx_data\u001b[0m\u001b[0;34m)\u001b[0m\u001b[0;34m)\u001b[0m\u001b[0;34m:\u001b[0m\u001b[0;34m\u001b[0m\u001b[0m\n\u001b[0m\u001b[1;32m     20\u001b[0m         \u001b[0mb_grad\u001b[0m \u001b[0;34m=\u001b[0m \u001b[0mb_grad\u001b[0m  \u001b[0;34m-\u001b[0m \u001b[0;36m2.0\u001b[0m\u001b[0;34m*\u001b[0m\u001b[0;34m(\u001b[0m\u001b[0my_data\u001b[0m\u001b[0;34m[\u001b[0m\u001b[0mn\u001b[0m\u001b[0;34m]\u001b[0m \u001b[0;34m-\u001b[0m \u001b[0mb\u001b[0m \u001b[0;34m-\u001b[0m \u001b[0mw\u001b[0m\u001b[0;34m*\u001b[0m\u001b[0mx_data\u001b[0m\u001b[0;34m[\u001b[0m\u001b[0mn\u001b[0m\u001b[0;34m]\u001b[0m\u001b[0;34m)\u001b[0m\u001b[0;34m*\u001b[0m\u001b[0;36m1.0\u001b[0m\u001b[0;34m\u001b[0m\u001b[0m\n\u001b[1;32m     21\u001b[0m         \u001b[0mw_grad\u001b[0m \u001b[0;34m=\u001b[0m \u001b[0mw_grad\u001b[0m  \u001b[0;34m-\u001b[0m \u001b[0;36m2.0\u001b[0m\u001b[0;34m*\u001b[0m\u001b[0;34m(\u001b[0m\u001b[0my_data\u001b[0m\u001b[0;34m[\u001b[0m\u001b[0mn\u001b[0m\u001b[0;34m]\u001b[0m \u001b[0;34m-\u001b[0m \u001b[0mb\u001b[0m \u001b[0;34m-\u001b[0m \u001b[0mw\u001b[0m\u001b[0;34m*\u001b[0m\u001b[0mx_data\u001b[0m\u001b[0;34m[\u001b[0m\u001b[0mn\u001b[0m\u001b[0;34m]\u001b[0m\u001b[0;34m)\u001b[0m\u001b[0;34m*\u001b[0m\u001b[0mx_data\u001b[0m\u001b[0;34m[\u001b[0m\u001b[0mn\u001b[0m\u001b[0;34m]\u001b[0m\u001b[0;34m\u001b[0m\u001b[0m\n",
      "\u001b[0;31mNameError\u001b[0m: name 'x_data' is not defined"
     ]
    }
   ],
   "source": [
    "# ydata = b + w * xdata \n",
    "b = -120 # initial b\n",
    "w = -4 # initial w\n",
    "lr = 1 # learning rate\n",
    "iteration = 100000\n",
    "\n",
    "b_lr = 0.0\n",
    "w_lr = 0.0\n",
    "\n",
    "# Store initial values for plotting.\n",
    "b_history = [b]\n",
    "w_history = [w]\n",
    "\n",
    "# Iterations\n",
    "for i in range(iteration):\n",
    "    \n",
    "    b_grad = 0.0\n",
    "    w_grad = 0.0\n",
    "    for n in range(len(x_data)):        \n",
    "        b_grad = b_grad  - 2.0*(y_data[n] - b - w*x_data[n])*1.0\n",
    "        w_grad = w_grad  - 2.0*(y_data[n] - b - w*x_data[n])*x_data[n]\n",
    "    \n",
    "    b_lr = b_lr + b_grad**2\n",
    "    w_lr = w_lr + w_grad**2\n",
    "    \n",
    "    # Update parameters.\n",
    "    b = b - lr/np.sqrt(b_lr) * b_grad \n",
    "    w = w - lr/np.sqrt(w_lr) * w_grad\n",
    "    \n",
    "    # Store parameters for plotting\n",
    "    b_history.append(b)\n",
    "    w_history.append(w)\n",
    "\n",
    "# plot the figure\n",
    "plt.contourf(x,y,Z, 50, alpha=0.5, cmap=plt.get_cmap('jet'))\n",
    "plt.plot([-188.4], [2.67], 'x', ms=12, markeredgewidth=3, color='orange')\n",
    "plt.plot(b_history, w_history, 'o-', ms=3, lw=1.5, color='black')\n",
    "plt.xlim(-200,-100)\n",
    "plt.ylim(-5,5)\n",
    "plt.xlabel(r'$b$', fontsize=16)\n",
    "plt.ylabel(r'$w$', fontsize=16)\n",
    "plt.show()"
   ]
  },
  {
   "cell_type": "code",
   "execution_count": null,
   "metadata": {
    "collapsed": true,
    "deletable": true,
    "editable": true
   },
   "outputs": [],
   "source": []
  },
  {
   "cell_type": "code",
   "execution_count": null,
   "metadata": {
    "collapsed": true,
    "deletable": true,
    "editable": true
   },
   "outputs": [],
   "source": []
  }
 ],
 "metadata": {
  "kernelspec": {
   "display_name": "Python 3",
   "language": "python",
   "name": "python3"
  },
  "language_info": {
   "codemirror_mode": {
    "name": "ipython",
    "version": 3
   },
   "file_extension": ".py",
   "mimetype": "text/x-python",
   "name": "python",
   "nbconvert_exporter": "python",
   "pygments_lexer": "ipython3",
   "version": "3.5.2"
  }
 },
 "nbformat": 4,
 "nbformat_minor": 0
}
